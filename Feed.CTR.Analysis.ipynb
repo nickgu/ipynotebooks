{
 "cells": [
  {
   "cell_type": "code",
   "execution_count": 55,
   "metadata": {},
   "outputs": [
    {
     "name": "stdout",
     "output_type": "stream",
     "text": [
      "0.02 50\n"
     ]
    },
    {
     "data": {
      "image/png": "[encoded data removed]",
      "text/plain": [
       "<Figure size 1440x720 with 1 Axes>"
      ]
     },
     "metadata": {},
     "output_type": "display_data"
    }
   ],
   "source": [
    "\n",
    "import pydev\n",
    "import matplotlib.pyplot as plt\n",
    "\n",
    "fd = file('data/user.analysis.out')\n",
    "\n",
    "unit = 0.02\n",
    "n = int(1.0 / unit)\n",
    "\n",
    "print unit, n\n",
    "\n",
    "offset = [i * 0.05 for i in range(n + 1)]\n",
    "label = [str(i * unit) for i in range(n+1)]\n",
    "\n",
    "counter = [0] * (1 + n)\n",
    "total_disps = [0] * (1+n)\n",
    "disp_dist = [[] for i in range(1+n)]\n",
    "total_clicks = [0] * (1+n)\n",
    "total_users = [0]*(1+n)\n",
    "total = 0\n",
    "for row in pydev.foreach_row(fd):\n",
    "    cuid, maxq, ctr, disp, click = row\n",
    "    maxq = float(maxq)\n",
    "    disp = int(disp)\n",
    "    click = int(click)\n",
    "    \n",
    "    idx = int(maxq*n)\n",
    "    total_clicks[ idx ] += click\n",
    "    total_disps[ idx ] += disp\n",
    "    disp_dist[ idx ].append(disp)\n",
    "    total_users[ idx ] += 1\n",
    "\n",
    "    total += 1\n",
    "    counter[ idx ] += 1\n",
    "\n",
    "counter = map(lambda x:x*1./total, counter)\n",
    "\n",
    "plt.figure(figsize=(20,10))\n",
    "plt.bar(offset, counter, width=0.02)\n",
    "\n",
    "f = filter(lambda x:int(x/0.05*unit*100)%5==0, offset)\n",
    "plt.xticks(f, map(lambda x:x/0.05*unit, f))\n",
    "plt.title('Distribution of DNN-Q on random display(including q==0)')\n",
    "plt.show()"
   ]
  },
  {
   "cell_type": "code",
   "execution_count": 41,
   "metadata": {},
   "outputs": [
    {
     "name": "stdout",
     "output_type": "stream",
     "text": [
      "max_q= 0.0: mid_disp_count=4, total_users=32689(12.5%), total_disp=169622(1.1%)\n",
      "max_q=0.05: mid_disp_count=4, total_users=27646(10.6%), total_disp=204446(1.3%)\n",
      "max_q= 0.1: mid_disp_count=5, total_users=24783(9.5%), total_disp=277932(1.7%)\n",
      "max_q=0.15: mid_disp_count=7, total_users=20283(7.8%), total_disp=345058(2.1%)\n",
      "max_q= 0.2: mid_disp_count=8, total_users=17222(6.6%), total_disp=418479(2.6%)\n",
      "max_q=0.25: mid_disp_count=11, total_users=16284(6.2%), total_disp=619792(3.8%)\n",
      "max_q= 0.3: mid_disp_count=16, total_users=15595(6.0%), total_disp=818844(5.1%)\n",
      "max_q=0.35: mid_disp_count=23, total_users=14986(5.7%), total_disp=1033015(6.4%)\n",
      "max_q= 0.4: mid_disp_count=32, total_users=14715(5.6%), total_disp=1273771(7.9%)\n",
      "max_q=0.45: mid_disp_count=42, total_users=14237(5.5%), total_disp=1470930(9.1%)\n",
      "max_q= 0.5: mid_disp_count=51, total_users=13347(5.1%), total_disp=1522747(9.4%)\n",
      "max_q=0.55: mid_disp_count=61, total_users=12029(4.6%), total_disp=1539773(9.5%)\n",
      "max_q= 0.6: mid_disp_count=72, total_users=10750(4.1%), total_disp=1562454(9.7%)\n",
      "max_q=0.65: mid_disp_count=79, total_users=8681(3.3%), total_disp=1325900(8.2%)\n",
      "max_q= 0.7: mid_disp_count=89, total_users=6747(2.6%), total_disp=1133367(7.0%)\n",
      "max_q=0.75: mid_disp_count=100, total_users=4848(1.9%), total_disp=871230(5.4%)\n",
      "max_q= 0.8: mid_disp_count=122, total_users=3051(1.2%), total_disp=666194(4.1%)\n",
      "max_q=0.85: mid_disp_count=144, total_users=1821(0.7%), total_disp=448042(2.8%)\n",
      "max_q= 0.9: mid_disp_count=203, total_users=898(0.3%), total_disp=288726(1.8%)\n",
      "max_q=0.95: mid_disp_count=244, total_users=345(0.1%), total_disp=141375(0.9%)\n",
      "max_q= 1.0: mid_disp_count=429, total_users=42(0.0%), total_disp=20495(0.1%)\n"
     ]
    }
   ],
   "source": [
    "\n",
    "ctr = map(lambda x:x[0]*1./x[1], zip(total_clicks, total_disps))\n",
    "\n",
    "avg_disp = map(lambda x:x[0]*1./x[1], zip(total_disps, total_users))\n",
    "\n",
    "\n",
    "\n",
    "\n",
    "mid_disp = map(lambda x:sorted(x)[len(x)/2], disp_dist)\n",
    "\n",
    "total_disp = sum(total_disps)\n",
    "for idx in range(len(label)):\n",
    "    print 'max_q=%4s: mid_disp_count=%d, total_users=%d(%.1f%%), total_disp=%d(%.1f%%)' % (\n",
    "        label[idx], mid_disp[idx], total_users[idx], counter[idx]*100.,\n",
    "        total_disps[idx], total_disps[idx]*100./total_disp\n",
    "    )\n",
    "\n",
    "\n",
    "\n"
   ]
  },
  {
   "cell_type": "code",
   "execution_count": 50,
   "metadata": {},
   "outputs": [
    {
     "name": "stdout",
     "output_type": "stream",
     "text": [
      "75929, 260999, 29.09% avg_diff=0.1011\n",
      "53246, 260999, 20.40% avg_diff=0.1082\n"
     ]
    }
   ],
   "source": [
    "\n",
    "# highest-Q analysis on position.\n",
    "fd = file('data/user.maxq.diffpos.out')\n",
    "\n",
    "total_user = 0\n",
    "out4 = 0\n",
    "diff4 = 0\n",
    "\n",
    "out9 = 0\n",
    "diff9 = 0\n",
    "for cuid, topq, maxq, maxq_pos, total_pos in pydev.foreach_row(fd):\n",
    "    total_user += 1\n",
    "    maxq_pos = int(maxq_pos)\n",
    "    maxq = float(maxq)\n",
    "    topq = float(topq)\n",
    "    if maxq_pos > 4:\n",
    "        out4 += 1\n",
    "        diff4 += maxq - topq\n",
    "    if maxq_pos > 9:\n",
    "        out9 += 1\n",
    "        diff9 += maxq - topq\n",
    "\n",
    "print '%d, %d, %.2f%% avg_diff=%.4f' % (out4, total_user, out4*100./total_user, diff4/out4)\n",
    "print '%d, %d, %.2f%% avg_diff=%.4f' % (out9, total_user, out9*100./total_user, diff9/out9)\n",
    "\n"
   ]
  }
 ],
 "metadata": {
  "kernelspec": {
   "display_name": "Python 2",
   "language": "python",
   "name": "python2"
  },
  "language_info": {
   "codemirror_mode": {
    "name": "ipython",
    "version": 2
   },
   "file_extension": ".py",
   "mimetype": "text/x-python",
   "name": "python",
   "nbconvert_exporter": "python",
   "pygments_lexer": "ipython2",
   "version": "2.7.15"
  }
 },
 "nbformat": 4,
 "nbformat_minor": 2
}
